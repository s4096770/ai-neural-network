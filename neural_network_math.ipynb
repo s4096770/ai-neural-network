{
 "cells": [
  {
   "cell_type": "markdown",
   "id": "39b7728f-06fc-4793-a6b7-9955e3a77e99",
   "metadata": {},
   "source": [
    "# 🧠 Neural Network from Scratch — Mathematical Explanation\n",
    "This notebook explains the mathematical concepts behind a simple neural network trained on the XOR dataset.\n",
    "It demonstrates forward propagation, backpropagation, and gradient descent optimisation, all implemented from first principles.\n"
   ]
  },
  {
   "cell_type": "code",
   "execution_count": 13,
   "id": "27df002b-8d2f-4ba3-8b36-10caf494d882",
   "metadata": {},
   "outputs": [],
   "source": [
    "import numpy as np\n",
    "import matplotlib.pyplot as plt\n"
   ]
  },
  {
   "cell_type": "markdown",
   "id": "f21ea4bf-6ca2-4ba3-afbd-f66ec73258fb",
   "metadata": {},
   "source": [
    "## 🧩 Define the Network Architecture\n",
    "\n",
    "We’ll create a three-layer neural network:\n",
    "- **Input layer:** 2 neurons  \n",
    "- **Hidden layer:** 3 neurons  \n",
    "- **Output layer:** 1 neuron\n"
   ]
  },
  {
   "cell_type": "markdown",
   "id": "428a5c17-81e4-4a2d-8f0d-d76dab376093",
   "metadata": {},
   "source": [
    "## 🧩 Define the Network Architecture\n",
    "\n",
    "We’ll create a three-layer neural network:\n",
    "- **Input layer:** 2 neurons  \n",
    "- **Hidden layer:** 3 neurons  \n",
    "- **Output layer:** 1 neuron\n"
   ]
  },
  {
   "cell_type": "code",
   "execution_count": 15,
   "id": "6f55b113-5e6f-43f9-850b-d28b82528c06",
   "metadata": {},
   "outputs": [],
   "source": [
    "inputs = 2\n",
    "hidden = 3\n",
    "outputs = 1\n",
    "\n",
    "np.random.seed(42)\n",
    "W1 = np.random.randn(inputs, hidden)\n",
    "b1 = np.zeros((1, hidden))\n",
    "W2 = np.random.randn(hidden, outputs)\n",
    "b2 = np.zeros((1, outputs))\n"
   ]
  },
  {
   "cell_type": "markdown",
   "id": "1be2ef96-67c5-4713-9a9b-f94dbd0ea226",
   "metadata": {},
   "source": [
    "## 2️⃣ Activation Function (Sigmoid)\n",
    "\n",
    "The **sigmoid function** introduces non-linearity:\n",
    "\n",
    "\\[\n",
    "\\sigma(x) = \\frac{1}{1 + e^{-x}}\n",
    "\\]\n",
    "\n",
    "Its derivative is used during backpropagation:\n",
    "\n",
    "\\[\n",
    "\\sigma'(x) = \\sigma(x) \\times (1 - \\sigma(x))\n",
    "\\]\n"
   ]
  },
  {
   "cell_type": "code",
   "execution_count": 16,
   "id": "13365ac7-0be8-4aa8-bf2f-f113b60cc88e",
   "metadata": {},
   "outputs": [],
   "source": [
    "def sigmoid(x):\n",
    "    return 1 / (1 + np.exp(-x))\n",
    "\n",
    "def sigmoid_derivative(x):\n",
    "    return x * (1 - x)\n"
   ]
  },
  {
   "cell_type": "markdown",
   "id": "8312d267-d402-4fb8-a6f2-5f111b92fed9",
   "metadata": {},
   "source": [
    "## 3️⃣ Training Data — XOR Problem\n",
    "\n",
    "The XOR logic gate outputs 1 only when the inputs differ.\n"
   ]
  },
  {
   "cell_type": "code",
   "execution_count": 17,
   "id": "2374c441-0f24-484f-8a97-c467945aab2a",
   "metadata": {},
   "outputs": [],
   "source": [
    "X = np.array([[0,0], [0,1], [1,0], [1,1]])\n",
    "y = np.array([[0], [1], [1], [0]])\n"
   ]
  },
  {
   "cell_type": "markdown",
   "id": "7ffe0fbd-50da-4c44-9147-ebacda8fd558",
   "metadata": {},
   "source": [
    "## 4️⃣ Training the Network\n",
    "\n",
    "We’ll use **gradient descent optimisation** to minimise loss:\n",
    "\n",
    "\\[\n",
    "L = \\frac{1}{n} \\sum (y - \\hat{y})^2\n",
    "\\]\n",
    "\n",
    "Each iteration:\n",
    "1. Forward propagate  \n",
    "2. Compute loss  \n",
    "3. Backpropagate gradients  \n",
    "4. Update weights\n"
   ]
  },
  {
   "cell_type": "code",
   "execution_count": 18,
   "id": "d9fff6dd-6989-494e-9593-bcd583cdbc14",
   "metadata": {},
   "outputs": [
    {
     "name": "stdout",
     "output_type": "stream",
     "text": [
      "Epoch 0, Loss: 0.3182\n",
      "Epoch 1000, Loss: 0.1420\n",
      "Epoch 2000, Loss: 0.0202\n",
      "Epoch 3000, Loss: 0.0063\n",
      "Epoch 4000, Loss: 0.0034\n",
      "Epoch 5000, Loss: 0.0023\n",
      "Epoch 6000, Loss: 0.0017\n",
      "Epoch 7000, Loss: 0.0014\n",
      "Epoch 8000, Loss: 0.0011\n",
      "Epoch 9000, Loss: 0.0010\n"
     ]
    }
   ],
   "source": [
    "learning_rate = 0.1\n",
    "epochs = 10_000\n",
    "losses = []\n",
    "\n",
    "for epoch in range(epochs):\n",
    "    # Forward pass\n",
    "    z1 = np.dot(X, W1) + b1\n",
    "    a1 = sigmoid(z1)\n",
    "    z2 = np.dot(a1, W2) + b2\n",
    "    y_hat = sigmoid(z2)\n",
    "\n",
    "    # Compute loss (Mean Squared Error)\n",
    "    loss = np.mean((y - y_hat) ** 2)\n",
    "    losses.append(loss)\n",
    "\n",
    "    # Backpropagation (mathematical optimisation)\n",
    "    d_loss = 2 * (y_hat - y)\n",
    "    d_z2 = d_loss * sigmoid_derivative(y_hat)\n",
    "    d_W2 = np.dot(a1.T, d_z2)\n",
    "    d_b2 = np.sum(d_z2, axis=0, keepdims=True)\n",
    "\n",
    "    d_a1 = np.dot(d_z2, W2.T)\n",
    "    d_z1 = d_a1 * sigmoid_derivative(a1)\n",
    "    d_W1 = np.dot(X.T, d_z1)\n",
    "    d_b1 = np.sum(d_z1, axis=0, keepdims=True)\n",
    "\n",
    "    # Update weights using gradient descent\n",
    "    W1 -= learning_rate * d_W1\n",
    "    b1 -= learning_rate * d_b1\n",
    "    W2 -= learning_rate * d_W2\n",
    "    b2 -= learning_rate * d_b2\n",
    "\n",
    "    # Optional: print progress occasionally\n",
    "    if epoch % 1000 == 0:\n",
    "        print(f\"Epoch {epoch}, Loss: {loss:.4f}\")\n"
   ]
  },
  {
   "cell_type": "markdown",
   "id": "1b9b1ec1-c467-4ebc-b232-1443bfb7bc82",
   "metadata": {},
   "source": [
    "## 5️⃣ Visualising Learning Progress\n",
    "\n",
    "The following plot shows how the model’s loss decreases over epochs:\n"
   ]
  },
  {
   "cell_type": "code",
   "execution_count": 21,
   "id": "42610fa5-1aa2-4775-820a-23dd97b8ff7e",
   "metadata": {},
   "outputs": [
    {
     "data": {
      "image/png": "[encoded data removed]",
      "text/plain": [
       "<Figure size 800x500 with 1 Axes>"
      ]
     },
     "metadata": {},
     "output_type": "display_data"
    }
   ],
   "source": [
    "plt.figure(figsize=(8, 5))\n",
    "plt.plot(losses, color=\"royalblue\", linewidth=2)\n",
    "plt.title(\"Training Loss Curve\", fontsize=14)\n",
    "plt.xlabel(\"Epochs\", fontsize=12)\n",
    "plt.ylabel(\"Loss (Mean Squared Error)\", fontsize=12)\n",
    "plt.grid(True, linestyle=\"--\", alpha=0.6)\n",
    "plt.tight_layout()\n",
    "plt.show()\n"
   ]
  },
  {
   "cell_type": "markdown",
   "id": "233584bf-fe29-45ad-b6c9-1baf8eb0a26d",
   "metadata": {},
   "source": [
    "## ✅ Final Predictions\n"
   ]
  },
  {
   "cell_type": "code",
   "execution_count": 20,
   "id": "ca7d9f38-1373-4afc-9dd1-0a60a8a5dec6",
   "metadata": {},
   "outputs": [
    {
     "name": "stdout",
     "output_type": "stream",
     "text": [
      "Final predictions:\n",
      "[[0.014]\n",
      " [0.971]\n",
      " [0.971]\n",
      " [0.038]]\n"
     ]
    }
   ],
   "source": [
    "print(\"Final predictions:\")\n",
    "print(y_hat.round(3))\n"
   ]
  },
  {
   "cell_type": "code",
   "execution_count": null,
   "id": "cbe0d53c-2b86-4577-829c-b1d6521c6bff",
   "metadata": {},
   "outputs": [],
   "source": []
  },
  {
   "cell_type": "code",
   "execution_count": null,
   "id": "e78ecd7d-662f-416f-b05b-d729c2bdcf65",
   "metadata": {},
   "outputs": [],
   "source": []
  },
  {
   "cell_type": "code",
   "execution_count": null,
   "id": "b00b5883-f763-459f-98d2-7e5f10b23d35",
   "metadata": {},
   "outputs": [],
   "source": []
  },
  {
   "cell_type": "code",
   "execution_count": null,
   "id": "8c221ae4-0de7-42a3-a949-849e42fe82a8",
   "metadata": {},
   "outputs": [],
   "source": []
  },
  {
   "cell_type": "code",
   "execution_count": null,
   "id": "47cb64e4-e521-4d94-b4e0-5f3d006ef42d",
   "metadata": {},
   "outputs": [],
   "source": []
  }
 ],
 "metadata": {
  "kernelspec": {
   "display_name": "Python 3 (ipykernel)",
   "language": "python",
   "name": "python3"
  },
  "language_info": {
   "codemirror_mode": {
    "name": "ipython",
    "version": 3
   },
   "file_extension": ".py",
   "mimetype": "text/x-python",
   "name": "python",
   "nbconvert_exporter": "python",
   "pygments_lexer": "ipython3",
   "version": "3.9.6"
  }
 },
 "nbformat": 4,
 "nbformat_minor": 5
}
